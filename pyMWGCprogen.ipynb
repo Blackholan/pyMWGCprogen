{
 "cells": [
  {
   "cell_type": "markdown",
   "id": "d08f4a96-08bc-4def-a21b-5a7dc9697106",
   "metadata": {},
   "source": [
    "# $\\mathsf{PyMWGCprogen}$ code"
   ]
  },
  {
   "cell_type": "markdown",
   "id": "d5e4ed1c-1dc5-40af-90b8-efeb2bd39918",
   "metadata": {},
   "source": [
    "### Import standard Python packages"
   ]
  },
  {
   "cell_type": "code",
   "execution_count": 1,
   "id": "310f74e3-4c6b-4d05-bab2-dbfce269a998",
   "metadata": {},
   "outputs": [],
   "source": [
    "#!/usr/bin/env python\n",
    "# coding: utf-8\n",
    "from __future__ import division\n",
    "import sys\n",
    "import matplotlib.pyplot as plt\n",
    "import numpy as np\n",
    "import pylab as pt\n",
    "from pylab import *\n",
    "import time\n",
    "import random\n",
    "from math import *\n",
    "from scipy.optimize import fsolve"
   ]
  },
  {
   "cell_type": "markdown",
   "id": "e53fe415-a3ba-4ce3-8ba1-4a233479b17d",
   "metadata": {},
   "source": [
    "### Import galpy function"
   ]
  },
  {
   "cell_type": "code",
   "execution_count": 2,
   "id": "74b7a37d-84dd-48e7-89f1-445b326cb67a",
   "metadata": {},
   "outputs": [
    {
     "name": "stdout",
     "output_type": "stream",
     "text": [
      "\u001b[91mA new version of galpy (1.10.0) is available, please upgrade using pip/conda/... to get the latest features and bug fixes!\u001b[0m\n"
     ]
    }
   ],
   "source": [
    "from astropy import units\n",
    "from galpy.potential import MWPotential2014, ChandrasekharDynamicalFrictionForce, NFWPotential, HernquistPotential, MN3ExponentialDiskPotential, DehnenSphericalPotential\n",
    "from galpy.potential import rtide, evaluaterforces, evaluater2derivs\n",
    "from galpy.potential.mwpotentials import McMillan17, Irrgang13I\n",
    "from galpy.orbit import Orbit\n",
    "from galpy.util import conversion\n",
    "from galpy.potential import plotRotcurve\n",
    "from galpy.potential import MovingObjectPotential\n",
    "from galpy.potential import NonInertialFrameForce\n",
    "from galpy.potential import (evaluateRforces, evaluatephitorques,evaluatezforces)\n",
    "from galpy.potential import vesc"
   ]
  },
  {
   "cell_type": "markdown",
   "id": "8aa8354b-7a51-4c5b-bb08-2eb7f15e1e89",
   "metadata": {},
   "source": [
    "### Import colossus function"
   ]
  },
  {
   "cell_type": "code",
   "execution_count": 3,
   "id": "92eaed2f-f40b-4a79-abc1-36c9ea5a9a73",
   "metadata": {},
   "outputs": [],
   "source": [
    "from colossus.cosmology import cosmology\n",
    "cosmology.setCosmology('planck15');\n",
    "from colossus.halo import concentration\n",
    "from colossus.halo import profile_hernquist"
   ]
  },
  {
   "cell_type": "code",
   "execution_count": 4,
   "id": "e4939b43-d760-4e64-a940-bca43ba50940",
   "metadata": {},
   "outputs": [],
   "source": [
    "# Debut du decompte du temps  ############################\n",
    "start_time = time.time()"
   ]
  },
  {
   "cell_type": "markdown",
   "id": "3173c39f-666b-4118-9cd8-35207bff571f",
   "metadata": {},
   "source": [
    "### Useful fonctions"
   ]
  },
  {
   "cell_type": "code",
   "execution_count": 5,
   "id": "15b8acef-6c9d-40ac-b4c3-aaa6d63556e8",
   "metadata": {},
   "outputs": [],
   "source": [
    "def Average(lst): \n",
    "    return sum(lst) / len(lst) "
   ]
  },
  {
   "cell_type": "markdown",
   "id": "52afcf0f-b986-4ed7-886c-b5e51bc03a59",
   "metadata": {},
   "source": [
    "### Initializing properties of dwarfs"
   ]
  },
  {
   "cell_type": "code",
   "execution_count": 6,
   "id": "4acad01b-694a-40a5-9689-7efa42380b23",
   "metadata": {
    "scrolled": true
   },
   "outputs": [
    {
     "name": "stdout",
     "output_type": "stream",
     "text": [
      "[198800000000.0, 77300000000.0, 62000000000.0, 21900000000.0, 800000000.0, 1600000000.0, 2000000000.0, 5700000000.0, 3500000000.0, 2800000000.0, 5600000000.0]\n",
      "198800000000.0\n",
      "[29.120973475224666, 19.632520537167565, 17.91105644169623, 11.635564892019563, 3.007538411847519, 3.983063357388343, 4.361288114872841, 6.688070732143269, 5.47866912642692, 5.00186109631168, 6.639759087965385]\n",
      "[12.06230216294522, 8.132056270063128, 7.4190024945805675, 4.819608784146741, 1.2457631995452816, 1.649838862421566, 1.8065046865969199, 2.770289603364298, 2.2693390559207876, 2.0718387031986563, 2.7502782651252753]\n"
     ]
    }
   ],
   "source": [
    "tab = ['LMC', 'SMC', 'Sgr', 'Fornax', 'Carina', 'Leo II', 'Sextans', 'Sculptor', 'Draco', 'Umi', 'Leo I']\n",
    "Md0=[198.8e9,77.3e9,6.2e10,21.9e9,0.8e9,1.6e9,2e9,5.7e9,3.5e9,2.8e9,5.6e9] # Pre-infall mass from Read 2019 (see https://ui.adsabs.harvard.edu/abs/2019MNRAS.487.5799R/abstract)\n",
    "#Md0=[1e11,2.6e10,1.4e10,0.79e9,0.398e9,0.316e9,0.316e9,1.99e9,3.16e9,0.79e9,1.99e9] #Current mass from Errani, Peñarrubia & Walker 2018 (see https://ui.adsabs.harvard.edu/abs/2018MNRAS.481.5073E/abstract) for the cuspy (ga=1) DM halo of dwarfs.\n",
    "\n",
    "print(Md0)\n",
    "\n",
    "sc=[] #list of scale radii for dwarf halos\n",
    "hmr=[] #list of half-mass radii for dwarf halos\n",
    "redshift=0 # redshit for the scale radii\n",
    "print(Md0[0])\n",
    "\n",
    "######## Calculating the scale radius ##################\n",
    "\n",
    "for kk1 in Md0:\n",
    "\tMv=kk1*0.7\n",
    "\tC1=concentration.concentration(Mv,'vir',0,model ='prada12')\n",
    "\tp_hern = profile_hernquist.HernquistProfile(M = Mv, c = C1, z = redshift, mdef = 'vir')\n",
    "\tsc.append(p_hern.par['rs']/0.7)\n",
    "\thmr.append(p_hern.par['rs']/(0.7*(sqrt(2)-1)))\n",
    "\n",
    "##########################\n",
    "\n",
    "print(hmr)\n",
    "print(sc)"
   ]
  },
  {
   "cell_type": "markdown",
   "id": "46b1bad3-5109-4e0e-8dd1-3e058c5a3d11",
   "metadata": {},
   "source": [
    "### Initializing properties of GCs"
   ]
  },
  {
   "cell_type": "code",
   "execution_count": 8,
   "id": "a4719921-56b0-4535-a05c-41cc6b9dfa56",
   "metadata": {},
   "outputs": [],
   "source": [
    "fname = 'dataVasiliev21.txt'\n",
    "dtype1 = np.dtype([('name', '|S20'),('alpha', 'f8'), ('delta', 'f8'), ('distance', 'f8'), ('Vlos', 'f8'), ('eVlos', 'f8'), ('mualpha', 'f8'), ('mudelta', 'f8'),('emualpha', 'f8'),('emudelta', 'f8'),('covmu', 'f8')])\n",
    "dataGCs = np.loadtxt(fname, dtype=dtype1, usecols=(0,1,2,3,4,5,6,7,8,9,10))\n",
    "\t\n",
    "AAA=['NGC104' ,'NGC288','NGC362','Whiting1', 'NGC1261', 'Pal1' ,'E1', 'Eridanus',\n",
    " 'Pal2', 'NGC1851', 'NGC1904' ,'NGC2298' ,'NGC2419', 'Pyxis' ,'NGC2808' ,'E3',\n",
    " 'Pal3' ,'NGC3201', 'Pal4', 'Crater', 'NGC4147' ,'NGC4372', 'Rup106' ,'NGC4590',\n",
    " 'NGC4833' ,'NGC5024', 'NGC5053', 'NGC5139' ,'NGC5272' ,'NGC5286', 'NGC5466',\n",
    " 'NGC5634', 'NGC5694', 'IC4499' ,'NGC5824' ,'Pal5', 'NGC5897' ,'NGC5904', 'NGC',\n",
    " 'NGC5946' ,'BH176', 'NGC5986', 'FSR1716', 'Pal14', 'BH184' ,'NGC6093', 'NGC6121',\n",
    " 'NGC6101', 'NGC6144' ,'NGC6139' ,'Terzan3', 'NGC6171', 'ESO45211', 'NGC6205',\n",
    " 'NGC6229' ,'NGC6218' ,'FSR1735' ,'NGC6235', 'NGC6254', 'NGC6256' ,'Pal15',\n",
    " 'NGC6266', 'NGC6273', 'NGC6284', 'NGC6287', 'NGC6293', 'NGC6304' ,'NGC6316',\n",
    " 'NGC6341' ,'NGC6325', 'NGC6333', 'NGC6342' ,'NGC6356', 'NGC6355' ,'NGC6352',\n",
    " 'IC1257' ,'Terzan2', 'NGC6366' ,'Terzan4', 'BH229', 'NGC6362' ,'NGC6380',\n",
    " 'Terzan1' ,'Ton2' ,'NGC6388', 'NGC6402' ,'NGC6401', 'NGC6397', 'Pal6' ,'NGC6426',\n",
    " 'Djorg1', 'Terzan5', 'NGC6440' ,'NGC6441', 'Terzan6' ,'NGC6453', 'NGC6496',\n",
    " 'Terzan9' ,'Djorg2' ,'NGC6517' ,'Terzan10' ,'NGC6522', 'NGC6535', 'NGC6528',\n",
    " 'NGC6539' ,'NGC6540', 'NGC6544' ,'NGC6541', 'ESO28006' ,'NGC6553', 'NGC6558',\n",
    " 'Pal7' ,'Terzan12', 'NGC6569', 'BH261', 'NGC6584', 'NGC6624' ,'NGC6626',\n",
    " 'NGC6638' ,'NGC6637' ,'NGC6642', 'NGC6652' ,'NGC6656' ,'Pal8', 'NGC6681',\n",
    " 'NGC6712' ,'NGC6715' ,'NGC6717' ,'NGC6723' ,'NGC6749' ,'NGC6752', 'NGC6760',\n",
    " 'NGC6779' ,'Terzan7', 'Pal10' ,'Arp2', 'NGC6809' ,'Terzan8' ,'Pal11' ,'NGC6838',\n",
    " 'NGC6864' ,'NGC6934' ,'NGC6981' ,'NGC7006' ,'NGC7078' ,'NGC7089', 'NGC7099',\n",
    " 'Pal12', 'Pal13', 'NGC7492']"
   ]
  },
  {
   "cell_type": "markdown",
   "id": "4a3aebc9-76c1-41be-9ab7-3a3d21cd7a45",
   "metadata": {},
   "source": [
    "### Galpy parameters"
   ]
  },
  {
   "cell_type": "code",
   "execution_count": 9,
   "id": "35b3222f-8ee9-4982-9140-966bbcc9efa5",
   "metadata": {},
   "outputs": [],
   "source": [
    "###### Integration time and timescale ###########################\n",
    "\n",
    "ts= np.linspace(0,-10,2000)*units.Gyr # Integrations over 10 Gyr\n",
    "ts1= np.linspace(0,-10,2000)\n",
    "\n",
    "####### MW potential ##########################\n",
    "\n",
    "MWPotential2014[2]*= 1.5"
   ]
  },
  {
   "cell_type": "markdown",
   "id": "2a55f183-1ad5-4e64-bbc6-9a186b540f6f",
   "metadata": {},
   "source": [
    "### Code parameters"
   ]
  },
  {
   "cell_type": "code",
   "execution_count": 10,
   "id": "8b215274-d23b-403b-a7bf-3b77e8baff84",
   "metadata": {},
   "outputs": [],
   "source": [
    "Na=2 # Na is the number of GC Monte Carlo samples. Try Na=2 for a first test. We use Na=1000 in the paper. \n",
    "KR=1 # KR is the number of dwarf Monte Carlo samples. Try KR=1 for a first test. We use KR=100 in the paper. \n",
    "# We ran (Na,KR)=(1000,100) on a 256 CPU nodes of a cluster."
   ]
  },
  {
   "cell_type": "markdown",
   "id": "f2466937-355f-48ac-b510-5762a1a8b088",
   "metadata": {},
   "source": [
    "### Running the code"
   ]
  },
  {
   "cell_type": "code",
   "execution_count": null,
   "id": "6d968bbd-2548-47f7-8e06-47a38b81ea55",
   "metadata": {},
   "outputs": [
    {
     "name": "stdout",
     "output_type": "stream",
     "text": [
      "kr 0\n",
      "moving lmc potential created\n",
      "acceleration by LMC calculated\n",
      "Dwarf number 1 /11\n",
      "Dwarf number 2 /11\n",
      "Dwarf number 3 /11\n",
      "Dwarf number 4 /11\n",
      "Dwarf number 5 /11\n",
      "Dwarf number 6 /11\n",
      "Dwarf number 7 /11\n",
      "Dwarf number 8 /11\n",
      "Dwarf number 9 /11\n",
      "Dwarf number 10 /11\n",
      "moving potentials for dwarfs created\n"
     ]
    }
   ],
   "source": [
    "for kr in range(0,KR,1):\n",
    "\t\n",
    "\tprint('kr',kr)\n",
    "\n",
    "\tmy_dwarf_pots2 = {}\n",
    "\tmy_dwarf_orbits2 = {}\n",
    "\tmy_dwarf_orbpots2 = {}\n",
    "\n",
    "\ti2=0\n",
    "\tname2='LMC'\n",
    "\n",
    "\tIG0=np.loadtxt('Orbmax/{}ORB.txt'.format(i2))\n",
    "\tdwarf_orbit2=Orbit(IG0[kr],radec=True)\n",
    "\t\n",
    "\tcdf2= ChandrasekharDynamicalFrictionForce(GMs=Md0[i2]*units.Msun,rhm=hmr[i2]*units.kpc,dens=MWPotential2014) #with dynamical friction\n",
    "\tdwarf_orbit2.integrate(ts,MWPotential2014+cdf2,method='dop853_c')\n",
    "\t\n",
    "\tdwarf_pot2=HernquistPotential(amp=2*Md0[i2]*units.Msun,a=sc[i2]*units.kpc)\n",
    "\tmy_dwarf_pots2[name2]= dwarf_pot2\n",
    "\t\n",
    "\tmy_dwarf_orbpots2[name2]= MovingObjectPotential(dwarf_orbit2,pot=dwarf_pot2)\n",
    "\tmy_dwarf_orbits2[name2]= dwarf_orbit2\n",
    "\t\t\n",
    "\tolmc=my_dwarf_orbits2['LMC']\n",
    "\tmoving_lmcpot = my_dwarf_orbpots2['LMC']\n",
    "\tprint('moving lmc potential created')\n",
    "\n",
    "\tloc_origin= 1e-4 # Small offset in R to avoid numerical issues\n",
    "\n",
    "\tax= lambda t: evaluateRforces(moving_lmcpot,loc_origin,0.,phi=0.,t=t,use_physical=False)\n",
    "\tay= lambda t: evaluatephitorques(moving_lmcpot,loc_origin,0.,phi=0.,t=t,use_physical=False)/loc_origin\n",
    "\taz= lambda t: evaluatezforces(moving_lmcpot,loc_origin,0.,phi=0.,t=t,use_physical=False)\n",
    "\n",
    "\tt_intunits= olmc.time(use_physical=False)[::-1] # need to reverse the order for interp\n",
    "\tax4int= [ax(t) for t in t_intunits]\n",
    "\tax_int= lambda t: np.interp(t,t_intunits,ax4int)\n",
    "\tay4int= [ay(t) for t in t_intunits]\n",
    "\tay_int= lambda t: np.interp(t,t_intunits,ay4int)\n",
    "\taz4int= [az(t) for t in t_intunits]\n",
    "\taz_int= lambda t: np.interp(t,t_intunits,az4int)\n",
    "\n",
    "\tnip= NonInertialFrameForce(a0=[ax_int,ay_int,az_int])\n",
    "\n",
    "\tprint('acceleration by LMC calculated')\n",
    "\t\n",
    "\tmy_dwarf_pots = {}\n",
    "\tmy_dwarf_orbits = {}\n",
    "\tmy_dwarf_orbpots = {}\n",
    "\t\t\n",
    "\tfor i,name in enumerate(tab):\n",
    "\t\t\n",
    "\t\tif i==0:\n",
    "\t\t\tcontinue\n",
    "\n",
    "\t\tprint('Dwarf number',i,'/11')\n",
    "\n",
    "\t\tIG0=np.loadtxt('Orbmax/{}ORB.txt'.format(i))\n",
    "\t\tdwarf_orbit=Orbit(IG0[kr],radec=True)\n",
    "\t\t\n",
    "\t\tcdf= ChandrasekharDynamicalFrictionForce(GMs=Md0[i]*units.Msun,rhm=hmr[i]*units.kpc,dens=MWPotential2014) #with dynamical friction\n",
    "\t\tdwarf_orbit.integrate(ts,MWPotential2014 + nip  + cdf,method='dop853_c')\n",
    "\t\t\n",
    "\t\tdwarf_pot=HernquistPotential(amp=2*Md0[i]*units.Msun,a=sc[i]*units.kpc)\n",
    "\t\tmy_dwarf_pots[name]= dwarf_pot\n",
    "\t\t\n",
    "\t\tmy_dwarf_orbpots[name]= MovingObjectPotential(dwarf_orbit,pot=dwarf_pot)\n",
    "\t\tmy_dwarf_orbits[name]= dwarf_orbit\n",
    "\t\t\n",
    "\tprint('moving potentials for dwarfs created')\n",
    "    \n",
    "\n",
    "################### Sampling ###################\n",
    "\tNumber=[]\n",
    "\tNAME=[]\n",
    "\tPERCENT=[]\n",
    "\tACCRETT=[]\n",
    "\tACCRETTV=[]\n",
    "\t\n",
    "\tfor ff,name2 in enumerate(AAA):\n",
    "\n",
    "\t\tRai=dataGCs['alpha'][ff]\n",
    "\t\tDeci=dataGCs['delta'][ff]\n",
    "\n",
    "\t\tpmrai=dataGCs['mualpha'][ff]\n",
    "\t\tpmdeci=dataGCs['mudelta'][ff]\n",
    "\t\t\n",
    "\t\tepmrai=dataGCs['emualpha'][ff]\n",
    "\t\tepmdeci=dataGCs['emudelta'][ff]\n",
    "\t\tecovmu=dataGCs['covmu'][ff]\n",
    "\t\t\n",
    "\t\tmean = [pmrai, pmdeci]\n",
    "\t\tcov = [[epmrai*epmrai,ecovmu*epmrai*epmdeci], [ecovmu*epmrai*epmdeci,epmdeci*epmdeci]]\n",
    "\t\tg2pra, g2pde = np.random.multivariate_normal(mean, cov, Na).T\n",
    "\t\tg2pra=list(g2pra)\n",
    "\t\tg2pde=list(g2pde)\n",
    "\n",
    "\t\tmud=dataGCs['distance'][ff]\n",
    "\t\tsigmad=0.046*mud\n",
    "\t\tg1dd = np.random.normal(mud, sigmad, Na)\n",
    "\t\tg1dd=list(g1dd)\n",
    "\n",
    "\t\tmuv=dataGCs['Vlos'][ff]\n",
    "\t\tsigmav=dataGCs['eVlos'][ff]\n",
    "\t\tg1dv = np.random.normal(muv, sigmav, Na)\n",
    "\t\tg1dv=list(g1dv)\n",
    "\t\t\n",
    "\t\tBBB=[]\n",
    "\n",
    "\t\tfor gg in range(0,Na,1):\n",
    "\n",
    "\t\t\tdi=random.choice(g1dd)\n",
    "\t\t\tvlosi=random.choice(g1dv)\n",
    "\t\t\t\n",
    "\t\t\tpmrai1=random.choice(g2pra)\n",
    "\t\t\tpmdeci1=random.choice(g2pde)\n",
    "\t\t\t\n",
    "\t\t\tg1dv.remove(vlosi)\n",
    "\t\t\tg1dd.remove(di)\n",
    "\t\t\tg2pra.remove(pmrai1)\n",
    "\t\t\tg2pde.remove(pmdeci1)\n",
    "\n",
    "\n",
    "\t\t\tBBB.append([Rai,Deci,di,pmrai1,pmdeci1,vlosi])\n",
    "\n",
    "\t\t\n",
    "\t\tmy_critv = {}\n",
    "\t\tmy_critr = {}\n",
    "\t\tmy_candidates = {}\n",
    "\n",
    "\t#####Integration of GCs in MW+dwarfs orbit ##########################\n",
    "\n",
    "\n",
    "\t\to= Orbit(BBB,radec=True)\n",
    "\t\t\n",
    "\t\tMWall= MWPotential2014 + my_dwarf_orbpots2['LMC'] + my_dwarf_orbpots['SMC'] + my_dwarf_orbpots['Sgr'] + my_dwarf_orbpots['Fornax'] + my_dwarf_orbpots['Carina'] + my_dwarf_orbpots['Leo II'] + my_dwarf_orbpots['Sextans'] + my_dwarf_orbpots['Sculptor'] + my_dwarf_orbpots['Draco'] + my_dwarf_orbpots['Umi'] + my_dwarf_orbpots['Leo I']\n",
    "\t\t\n",
    "\t\to.integrate(ts,MWall + nip ,force_map=True)\n",
    "    \n",
    "\t\tgcx=o.x(ts)\n",
    "\t\tgcy=o.y(ts)\n",
    "\t\tgcz=o.z(ts)\n",
    "\t\tvgcx=o.vx(ts)\n",
    "\t\tvgcy=o.vy(ts)\n",
    "\t\tvgcz=o.vz(ts)\n",
    "\t\t\n",
    "\t\t#gcE=o.E(ts)\n",
    "\t\t#gcL=o.L(ts)\n",
    "\t\t#gcLz=gcL[2]\n",
    "\t\t\n",
    "\t\tvgcx=o.vx(ts)\n",
    "\t\tvgcy=o.vy(ts)\n",
    "\t\tvgcz=o.vz(ts)\n",
    "\t\tVgc=np.sqrt(vgcx**2 + vgcy**2 + vgcz**2) # Velocity of the GC in the dwarf reference frame\n",
    "\n",
    "\n",
    "\t\t######################## Finding associations between GCs and dwarfs based on the escape velocity and tidal radius criteria #############\n",
    "\n",
    "\t\ttab = ['LMC', 'SMC', 'Sgr', 'Fornax', 'Carina', 'Leo II', 'Sextans', 'Sculptor', 'Draco', 'Umi', 'Leo I']\n",
    "\n",
    "\t\tfor i,name in enumerate(tab):\n",
    "\t\t\t\n",
    "\t\t\tif name=='LMC':\n",
    "\t\t\t\tdwarf1_orbit=my_dwarf_orbits2[name]\n",
    "\t\t\t\tdwarf1_pot=my_dwarf_pots2[name]\n",
    "\t\t\telse:\n",
    "\t\t\t\tdwarf1_orbit=my_dwarf_orbits[name]\n",
    "\t\t\t\tdwarf1_pot=my_dwarf_pots[name]\n",
    "\t\t\tX1=dwarf1_orbit.x(ts)\n",
    "\t\t\tY1=dwarf1_orbit.y(ts)\n",
    "\t\t\tZ1=dwarf1_orbit.z(ts)\n",
    "\t\t\tR1=dwarf1_orbit.R(ts)\n",
    "\t\t\tVX1=dwarf1_orbit.vx(ts)\n",
    "\t\t\tVY1=dwarf1_orbit.vy(ts)\n",
    "\t\t\tVZ1=dwarf1_orbit.vz(ts)\n",
    "\t\t\t\t\t\n",
    "\t\t\trr=dwarf1_orbit.r(ts)\t\t\t\n",
    "\t\t\tEn=dwarf1_orbit.E(ts)\n",
    "\t\t\tL=dwarf1_orbit.L(ts)\n",
    "\t\t\tLz=L[2]\n",
    "\t\t\t\n",
    "\t\t\t############## Dynamical criteria ##########\n",
    "\t\t\t\n",
    "\t\t\tRc=np.sqrt((gcx-X1)**2 + (gcy-Y1)**2 + (gcz-Z1)**2) # Orbital radius of GC centered on the dwarf\n",
    "\t\t\tVdw=np.sqrt(VX1**2 + VY1**2 + VZ1**2) # Velocity of the GC in the dwarf reference frame\n",
    "\t\t\tVrel=abs(Vgc-Vdw) # Velocity of the GC in the dwarf reference frame\n",
    "\t\t\tVcir=dwarf1_pot.vcirc(Rc)\n",
    "\t\t\tVesc=vesc(dwarf1_pot,Rc)\n",
    "\t\t\trt=rtide(MWPotential2014 ,R1,Z1,M=Md0[i]*units.Msun) # tidal radius of the dwarf\n",
    "\t\t\t\n",
    "\t\t\tCritV=Vrel/Vesc # escape velocity criterion\n",
    "\t\t\tCritR=Rc/rt # tidal radius criterion\n",
    "\t\t\tTranche=CritV*CritR\n",
    "\t\t\tBingo=np.where(Tranche < 1)\n",
    "\t\t\tNasso=np.array(Bingo).size\n",
    "\t\t\tif Nasso > 0:\n",
    "\t\t\t\tbingo0=list(set(Bingo[0]))\n",
    "\t\t\t\tLOC=[np.where(Bingo[0] == ki) for ki in bingo0]\n",
    "\t\t\t\tloc=[LOC[ll][0][0] for ll in range(0,len(bingo0),1)]\n",
    "\t\t\t\tindta=[Bingo[1][ll1] for ll1 in loc]\n",
    "\t\t\t\tcritV=np.array([ CritV[mm][nn] for mm,nn in zip(bingo0,indta)])\t\n",
    "\t\t\t\tcritR=np.array([ CritR[mm][nn] for mm,nn in zip(bingo0,indta)])\n",
    "\t\t\t\t#dataE=np.array([ gcE[mm][nn] for mm,nn in zip(bingo0,indta)])\n",
    "\t\t\t\t#dataL=np.array([ gcL[mm][nn] for mm,nn in zip(bingo0,indta)])\n",
    "\t\t\t\ttimeA=[ts1[ll2] for ll2 in indta]\t\n",
    "\t\t\t\tcritV1=np.where(critV < 1)\n",
    "\t\t\t\tcritR1=np.where(critR < 1)\n",
    "\t\t\t\tIndex1=critR1[0]\n",
    "\t\t\t\tNcritV=np.array(critV1).size\n",
    "\t\t\t\tNcritR=np.array(critR1).size\n",
    "\t\t\t\t#print('go')\n",
    "\t\t\t\tif NcritV>1 and NcritR>1:\n",
    "\t\t\t\t\tListAt=[timeA[hh] for hh in Index1]\n",
    "\t\t\t\t\tprint(len(ListAt)*100/Na,Average(ListAt),'GC:',name2,'Dwarf:',name)\n",
    "\t\t\t\t\t#ListE= [dataE[hh] for hh in Index1]\n",
    "\t\t\t\t\t#ListL= [dataL[hh] for hh in Index1]\n",
    "\t\t\t\t\tNumber.append(ff)\n",
    "\t\t\t\t\tNAME.append(name2)\n",
    "\t\t\t\t\tPERCENT.append(len(ListAt)*100/Na)\n",
    "\t\t\t\t\tACCRETTV.append(Average(ListAt))\n",
    "\t\t\t\t\tACCRETT.append(ListAt)\n",
    "\tif len(Number)>0:\t\t\t\n",
    "\t\tGO=np.array([Number,NAME,PERCENT,ACCRETTV,ACCRETT])\t\t\t\n",
    "\t\tnp.savetxt('GCR{}.txt'.format(kr),GO, fmt='%s')\n",
    "\n",
    "# Affichage du temps d execution\n",
    "print(\"Temps d execution : %s secondes ---\" % (time.time() - start_time))"
   ]
  },
  {
   "cell_type": "code",
   "execution_count": null,
   "id": "08c57223-79e6-4318-831c-1bf4c027d595",
   "metadata": {},
   "outputs": [],
   "source": []
  },
  {
   "cell_type": "code",
   "execution_count": null,
   "id": "c0c146c4-c49c-4b31-8ace-ccb2f808980b",
   "metadata": {},
   "outputs": [],
   "source": []
  },
  {
   "cell_type": "code",
   "execution_count": null,
   "id": "fd647349-894f-4627-b2eb-842e6391075a",
   "metadata": {},
   "outputs": [],
   "source": []
  },
  {
   "cell_type": "code",
   "execution_count": null,
   "id": "9fdc0a3c-15a1-4816-a887-f140695e49c7",
   "metadata": {},
   "outputs": [],
   "source": []
  },
  {
   "cell_type": "code",
   "execution_count": null,
   "id": "37a6755b-a99e-445f-9af8-15cdd4e13b0f",
   "metadata": {},
   "outputs": [],
   "source": []
  },
  {
   "cell_type": "code",
   "execution_count": null,
   "id": "fa34a79a-e861-4b70-a156-f0f6b9546561",
   "metadata": {},
   "outputs": [],
   "source": []
  },
  {
   "cell_type": "code",
   "execution_count": null,
   "id": "e99d535f-9060-43e5-8c34-c0efe111b96b",
   "metadata": {},
   "outputs": [],
   "source": []
  },
  {
   "cell_type": "code",
   "execution_count": null,
   "id": "809f8d8b-6209-4367-8341-6aff509ed39b",
   "metadata": {},
   "outputs": [],
   "source": []
  },
  {
   "cell_type": "code",
   "execution_count": null,
   "id": "ab34bb96-d961-46c4-80e0-e4939cbfdd3b",
   "metadata": {},
   "outputs": [],
   "source": []
  }
 ],
 "metadata": {
  "kernelspec": {
   "display_name": "Python 3 (ipykernel)",
   "language": "python",
   "name": "python3"
  },
  "language_info": {
   "codemirror_mode": {
    "name": "ipython",
    "version": 3
   },
   "file_extension": ".py",
   "mimetype": "text/x-python",
   "name": "python",
   "nbconvert_exporter": "python",
   "pygments_lexer": "ipython3",
   "version": "3.9.6"
  }
 },
 "nbformat": 4,
 "nbformat_minor": 5
}
